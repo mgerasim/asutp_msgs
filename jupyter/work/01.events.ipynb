{
 "cells": [
  {
   "cell_type": "markdown",
   "id": "67c20615-59a6-4dff-ade7-a53659b5c199",
   "metadata": {},
   "source": [
    "# Модель состояния системы"
   ]
  },
  {
   "cell_type": "markdown",
   "id": "ffc66f9e-17d1-468f-bb55-6d016ce41bb3",
   "metadata": {},
   "source": [
    "### 1. Обработка данных"
   ]
  },
  {
   "cell_type": "markdown",
   "id": "55943fe4-7946-41d6-a9b3-35b94e3230ab",
   "metadata": {},
   "source": [
    "Сообщения от станции приходят независимо друг от друга. Каждое сообщение имеет Важность:\n",
    "    - информативные \n",
    "    - предупредительные \n",
    "    - аварийные\n",
    "\n",
    "Для дальнейшей работы необходимо:\n",
    "    1. Определить временной отрезок*\n",
    "    2. Сгруппировать сообщения по важности в рамках временно отрезка\n",
    "    \n",
    "*Длительность временного отрезка определяется на основе работы диспетчерской службы для анализа состояния станции и предупреждению аварийности."
   ]
  },
  {
   "cell_type": "markdown",
   "id": "e4926184-5985-4ced-9b5e-df0a679e8fe1",
   "metadata": {},
   "source": [
    "! Данные прошли предворительную обработку и сохранены в файл prepare_data.csv"
   ]
  },
  {
   "cell_type": "code",
   "execution_count": 2,
   "id": "d22aaec5-caa5-4165-af05-296d3c0b641a",
   "metadata": {},
   "outputs": [],
   "source": [
    "import pandas as pd"
   ]
  },
  {
   "cell_type": "code",
   "execution_count": null,
   "id": "ec363743-3f84-4251-bf4d-3ae061016962",
   "metadata": {},
   "outputs": [
    {
     "data": {
      "text/plain": [
       "EventTime\n",
       "05.09.2019 22:00    05.09.2019 22:00\n",
       "05.09.2019 23:00    05.09.2019 23:00\n",
       "06.09.2019 0:00      06.09.2019 0:00\n",
       "06.09.2019 1:00      06.09.2019 1:00\n",
       "06.09.2019 2:00      06.09.2019 2:00\n",
       "                          ...       \n",
       "28.01.2022 2:00      28.01.2022 2:00\n",
       "28.01.2022 3:00      28.01.2022 3:00\n",
       "28.01.2022 4:00      28.01.2022 4:00\n",
       "28.01.2022 5:00      28.01.2022 5:00\n",
       "28.01.2022 6:00      28.01.2022 6:00\n",
       "Name: EventTime, Length: 20967, dtype: object"
      ]
     },
     "execution_count": 4,
     "metadata": {},
     "output_type": "execute_result"
    }
   ],
   "source": [
    "# Подключаем необходимые библиотеки\n",
    "import pandas as pd\n",
    "\n",
    "# Загружаем обработанные файлы\n",
    "df= pd.read_csv('data/prepare_data.csv', sep=',')\n",
    "df.index = df['EventTime']\n",
    "df.pop('EventTime')"
   ]
  },
  {
   "cell_type": "code",
   "execution_count": 5,
   "id": "27a9094d-f271-4237-acb9-45be60d39c24",
   "metadata": {},
   "outputs": [
    {
     "data": {
      "text/html": [
       "<div>\n",
       "<style scoped>\n",
       "    .dataframe tbody tr th:only-of-type {\n",
       "        vertical-align: middle;\n",
       "    }\n",
       "\n",
       "    .dataframe tbody tr th {\n",
       "        vertical-align: top;\n",
       "    }\n",
       "\n",
       "    .dataframe thead th {\n",
       "        text-align: right;\n",
       "    }\n",
       "</style>\n",
       "<table border=\"1\" class=\"dataframe\">\n",
       "  <thead>\n",
       "    <tr style=\"text-align: right;\">\n",
       "      <th></th>\n",
       "      <th>count_total</th>\n",
       "      <th>count_severity_info</th>\n",
       "      <th>count_severity_warning</th>\n",
       "      <th>count_severity_critical</th>\n",
       "      <th>mean7_count_severity_info</th>\n",
       "      <th>mean15_count_severity_info</th>\n",
       "      <th>mean30_count_severity_info</th>\n",
       "      <th>mean7_count_severity_warning</th>\n",
       "      <th>mean15_count_severity_warning</th>\n",
       "      <th>mean30_count_severity_warning</th>\n",
       "      <th>...</th>\n",
       "      <th>temp_prirost30_severity_critical</th>\n",
       "      <th>ratio_left7_severity_info</th>\n",
       "      <th>ratio_left15_severity_info</th>\n",
       "      <th>ratio_left30_severity_info</th>\n",
       "      <th>ratio_left7_severity_warning</th>\n",
       "      <th>ratio_left15_severity_warning</th>\n",
       "      <th>ratio_left30_severity_warning</th>\n",
       "      <th>ratio_left7_severity_critical</th>\n",
       "      <th>ratio_left15_severity_critical</th>\n",
       "      <th>ratio_left30_severity_critical</th>\n",
       "    </tr>\n",
       "    <tr>\n",
       "      <th>EventTime</th>\n",
       "      <th></th>\n",
       "      <th></th>\n",
       "      <th></th>\n",
       "      <th></th>\n",
       "      <th></th>\n",
       "      <th></th>\n",
       "      <th></th>\n",
       "      <th></th>\n",
       "      <th></th>\n",
       "      <th></th>\n",
       "      <th></th>\n",
       "      <th></th>\n",
       "      <th></th>\n",
       "      <th></th>\n",
       "      <th></th>\n",
       "      <th></th>\n",
       "      <th></th>\n",
       "      <th></th>\n",
       "      <th></th>\n",
       "      <th></th>\n",
       "      <th></th>\n",
       "    </tr>\n",
       "  </thead>\n",
       "  <tbody>\n",
       "    <tr>\n",
       "      <th>05.09.2019 22:00</th>\n",
       "      <td>610</td>\n",
       "      <td>451</td>\n",
       "      <td>157</td>\n",
       "      <td>2</td>\n",
       "      <td>NaN</td>\n",
       "      <td>NaN</td>\n",
       "      <td>NaN</td>\n",
       "      <td>NaN</td>\n",
       "      <td>NaN</td>\n",
       "      <td>NaN</td>\n",
       "      <td>...</td>\n",
       "      <td>NaN</td>\n",
       "      <td>NaN</td>\n",
       "      <td>NaN</td>\n",
       "      <td>NaN</td>\n",
       "      <td>NaN</td>\n",
       "      <td>NaN</td>\n",
       "      <td>NaN</td>\n",
       "      <td>NaN</td>\n",
       "      <td>NaN</td>\n",
       "      <td>NaN</td>\n",
       "    </tr>\n",
       "    <tr>\n",
       "      <th>05.09.2019 23:00</th>\n",
       "      <td>103</td>\n",
       "      <td>77</td>\n",
       "      <td>26</td>\n",
       "      <td>0</td>\n",
       "      <td>NaN</td>\n",
       "      <td>NaN</td>\n",
       "      <td>NaN</td>\n",
       "      <td>NaN</td>\n",
       "      <td>NaN</td>\n",
       "      <td>NaN</td>\n",
       "      <td>...</td>\n",
       "      <td>NaN</td>\n",
       "      <td>NaN</td>\n",
       "      <td>NaN</td>\n",
       "      <td>NaN</td>\n",
       "      <td>NaN</td>\n",
       "      <td>NaN</td>\n",
       "      <td>NaN</td>\n",
       "      <td>NaN</td>\n",
       "      <td>NaN</td>\n",
       "      <td>NaN</td>\n",
       "    </tr>\n",
       "    <tr>\n",
       "      <th>06.09.2019 0:00</th>\n",
       "      <td>166</td>\n",
       "      <td>111</td>\n",
       "      <td>54</td>\n",
       "      <td>1</td>\n",
       "      <td>NaN</td>\n",
       "      <td>NaN</td>\n",
       "      <td>NaN</td>\n",
       "      <td>NaN</td>\n",
       "      <td>NaN</td>\n",
       "      <td>NaN</td>\n",
       "      <td>...</td>\n",
       "      <td>NaN</td>\n",
       "      <td>NaN</td>\n",
       "      <td>NaN</td>\n",
       "      <td>NaN</td>\n",
       "      <td>NaN</td>\n",
       "      <td>NaN</td>\n",
       "      <td>NaN</td>\n",
       "      <td>NaN</td>\n",
       "      <td>NaN</td>\n",
       "      <td>NaN</td>\n",
       "    </tr>\n",
       "    <tr>\n",
       "      <th>06.09.2019 1:00</th>\n",
       "      <td>147</td>\n",
       "      <td>122</td>\n",
       "      <td>24</td>\n",
       "      <td>1</td>\n",
       "      <td>NaN</td>\n",
       "      <td>NaN</td>\n",
       "      <td>NaN</td>\n",
       "      <td>NaN</td>\n",
       "      <td>NaN</td>\n",
       "      <td>NaN</td>\n",
       "      <td>...</td>\n",
       "      <td>NaN</td>\n",
       "      <td>NaN</td>\n",
       "      <td>NaN</td>\n",
       "      <td>NaN</td>\n",
       "      <td>NaN</td>\n",
       "      <td>NaN</td>\n",
       "      <td>NaN</td>\n",
       "      <td>NaN</td>\n",
       "      <td>NaN</td>\n",
       "      <td>NaN</td>\n",
       "    </tr>\n",
       "    <tr>\n",
       "      <th>06.09.2019 2:00</th>\n",
       "      <td>681</td>\n",
       "      <td>590</td>\n",
       "      <td>89</td>\n",
       "      <td>2</td>\n",
       "      <td>NaN</td>\n",
       "      <td>NaN</td>\n",
       "      <td>NaN</td>\n",
       "      <td>NaN</td>\n",
       "      <td>NaN</td>\n",
       "      <td>NaN</td>\n",
       "      <td>...</td>\n",
       "      <td>NaN</td>\n",
       "      <td>NaN</td>\n",
       "      <td>NaN</td>\n",
       "      <td>NaN</td>\n",
       "      <td>NaN</td>\n",
       "      <td>NaN</td>\n",
       "      <td>NaN</td>\n",
       "      <td>NaN</td>\n",
       "      <td>NaN</td>\n",
       "      <td>NaN</td>\n",
       "    </tr>\n",
       "    <tr>\n",
       "      <th>...</th>\n",
       "      <td>...</td>\n",
       "      <td>...</td>\n",
       "      <td>...</td>\n",
       "      <td>...</td>\n",
       "      <td>...</td>\n",
       "      <td>...</td>\n",
       "      <td>...</td>\n",
       "      <td>...</td>\n",
       "      <td>...</td>\n",
       "      <td>...</td>\n",
       "      <td>...</td>\n",
       "      <td>...</td>\n",
       "      <td>...</td>\n",
       "      <td>...</td>\n",
       "      <td>...</td>\n",
       "      <td>...</td>\n",
       "      <td>...</td>\n",
       "      <td>...</td>\n",
       "      <td>...</td>\n",
       "      <td>...</td>\n",
       "      <td>...</td>\n",
       "    </tr>\n",
       "    <tr>\n",
       "      <th>28.01.2022 2:00</th>\n",
       "      <td>462</td>\n",
       "      <td>402</td>\n",
       "      <td>38</td>\n",
       "      <td>22</td>\n",
       "      <td>238.494048</td>\n",
       "      <td>254.244444</td>\n",
       "      <td>263.038889</td>\n",
       "      <td>21.369048</td>\n",
       "      <td>22.575000</td>\n",
       "      <td>32.850000</td>\n",
       "      <td>...</td>\n",
       "      <td>41894.134897</td>\n",
       "      <td>1.858564</td>\n",
       "      <td>0.406572</td>\n",
       "      <td>0.098479</td>\n",
       "      <td>0.166527</td>\n",
       "      <td>0.036101</td>\n",
       "      <td>0.012299</td>\n",
       "      <td>0.015725</td>\n",
       "      <td>0.001772</td>\n",
       "      <td>0.000334</td>\n",
       "    </tr>\n",
       "    <tr>\n",
       "      <th>28.01.2022 3:00</th>\n",
       "      <td>927</td>\n",
       "      <td>828</td>\n",
       "      <td>36</td>\n",
       "      <td>63</td>\n",
       "      <td>239.404762</td>\n",
       "      <td>254.602778</td>\n",
       "      <td>263.279167</td>\n",
       "      <td>21.184524</td>\n",
       "      <td>22.566667</td>\n",
       "      <td>32.781944</td>\n",
       "      <td>...</td>\n",
       "      <td>42471.866871</td>\n",
       "      <td>1.860376</td>\n",
       "      <td>0.406616</td>\n",
       "      <td>0.098510</td>\n",
       "      <td>0.164622</td>\n",
       "      <td>0.036040</td>\n",
       "      <td>0.012266</td>\n",
       "      <td>0.015819</td>\n",
       "      <td>0.001788</td>\n",
       "      <td>0.000336</td>\n",
       "    </tr>\n",
       "    <tr>\n",
       "      <th>28.01.2022 4:00</th>\n",
       "      <td>289</td>\n",
       "      <td>275</td>\n",
       "      <td>12</td>\n",
       "      <td>2</td>\n",
       "      <td>237.446429</td>\n",
       "      <td>254.466667</td>\n",
       "      <td>263.254167</td>\n",
       "      <td>20.345238</td>\n",
       "      <td>22.558333</td>\n",
       "      <td>32.770833</td>\n",
       "      <td>...</td>\n",
       "      <td>53434.928230</td>\n",
       "      <td>1.866522</td>\n",
       "      <td>0.406606</td>\n",
       "      <td>0.098512</td>\n",
       "      <td>0.159930</td>\n",
       "      <td>0.036045</td>\n",
       "      <td>0.012263</td>\n",
       "      <td>0.014365</td>\n",
       "      <td>0.001793</td>\n",
       "      <td>0.000336</td>\n",
       "    </tr>\n",
       "    <tr>\n",
       "      <th>28.01.2022 5:00</th>\n",
       "      <td>922</td>\n",
       "      <td>801</td>\n",
       "      <td>33</td>\n",
       "      <td>88</td>\n",
       "      <td>237.809524</td>\n",
       "      <td>254.608333</td>\n",
       "      <td>263.373611</td>\n",
       "      <td>20.303571</td>\n",
       "      <td>22.566667</td>\n",
       "      <td>32.772222</td>\n",
       "      <td>...</td>\n",
       "      <td>48607.386364</td>\n",
       "      <td>1.866765</td>\n",
       "      <td>0.406585</td>\n",
       "      <td>0.098513</td>\n",
       "      <td>0.159380</td>\n",
       "      <td>0.036037</td>\n",
       "      <td>0.012258</td>\n",
       "      <td>0.014672</td>\n",
       "      <td>0.001823</td>\n",
       "      <td>0.000340</td>\n",
       "    </tr>\n",
       "    <tr>\n",
       "      <th>28.01.2022 6:00</th>\n",
       "      <td>350</td>\n",
       "      <td>303</td>\n",
       "      <td>24</td>\n",
       "      <td>23</td>\n",
       "      <td>236.904762</td>\n",
       "      <td>254.497222</td>\n",
       "      <td>263.430556</td>\n",
       "      <td>19.845238</td>\n",
       "      <td>22.552778</td>\n",
       "      <td>32.776389</td>\n",
       "      <td>...</td>\n",
       "      <td>59916.538949</td>\n",
       "      <td>1.869723</td>\n",
       "      <td>0.406565</td>\n",
       "      <td>0.098511</td>\n",
       "      <td>0.156625</td>\n",
       "      <td>0.036029</td>\n",
       "      <td>0.012257</td>\n",
       "      <td>0.014469</td>\n",
       "      <td>0.001850</td>\n",
       "      <td>0.000343</td>\n",
       "    </tr>\n",
       "  </tbody>\n",
       "</table>\n",
       "<p>20967 rows × 114 columns</p>\n",
       "</div>"
      ],
      "text/plain": [
       "                  count_total  count_severity_info  count_severity_warning  \\\n",
       "EventTime                                                                    \n",
       "05.09.2019 22:00          610                  451                     157   \n",
       "05.09.2019 23:00          103                   77                      26   \n",
       "06.09.2019 0:00           166                  111                      54   \n",
       "06.09.2019 1:00           147                  122                      24   \n",
       "06.09.2019 2:00           681                  590                      89   \n",
       "...                       ...                  ...                     ...   \n",
       "28.01.2022 2:00           462                  402                      38   \n",
       "28.01.2022 3:00           927                  828                      36   \n",
       "28.01.2022 4:00           289                  275                      12   \n",
       "28.01.2022 5:00           922                  801                      33   \n",
       "28.01.2022 6:00           350                  303                      24   \n",
       "\n",
       "                  count_severity_critical  mean7_count_severity_info  \\\n",
       "EventTime                                                              \n",
       "05.09.2019 22:00                        2                        NaN   \n",
       "05.09.2019 23:00                        0                        NaN   \n",
       "06.09.2019 0:00                         1                        NaN   \n",
       "06.09.2019 1:00                         1                        NaN   \n",
       "06.09.2019 2:00                         2                        NaN   \n",
       "...                                   ...                        ...   \n",
       "28.01.2022 2:00                        22                 238.494048   \n",
       "28.01.2022 3:00                        63                 239.404762   \n",
       "28.01.2022 4:00                         2                 237.446429   \n",
       "28.01.2022 5:00                        88                 237.809524   \n",
       "28.01.2022 6:00                        23                 236.904762   \n",
       "\n",
       "                  mean15_count_severity_info  mean30_count_severity_info  \\\n",
       "EventTime                                                                  \n",
       "05.09.2019 22:00                         NaN                         NaN   \n",
       "05.09.2019 23:00                         NaN                         NaN   \n",
       "06.09.2019 0:00                          NaN                         NaN   \n",
       "06.09.2019 1:00                          NaN                         NaN   \n",
       "06.09.2019 2:00                          NaN                         NaN   \n",
       "...                                      ...                         ...   \n",
       "28.01.2022 2:00                   254.244444                  263.038889   \n",
       "28.01.2022 3:00                   254.602778                  263.279167   \n",
       "28.01.2022 4:00                   254.466667                  263.254167   \n",
       "28.01.2022 5:00                   254.608333                  263.373611   \n",
       "28.01.2022 6:00                   254.497222                  263.430556   \n",
       "\n",
       "                  mean7_count_severity_warning  mean15_count_severity_warning  \\\n",
       "EventTime                                                                       \n",
       "05.09.2019 22:00                           NaN                            NaN   \n",
       "05.09.2019 23:00                           NaN                            NaN   \n",
       "06.09.2019 0:00                            NaN                            NaN   \n",
       "06.09.2019 1:00                            NaN                            NaN   \n",
       "06.09.2019 2:00                            NaN                            NaN   \n",
       "...                                        ...                            ...   \n",
       "28.01.2022 2:00                      21.369048                      22.575000   \n",
       "28.01.2022 3:00                      21.184524                      22.566667   \n",
       "28.01.2022 4:00                      20.345238                      22.558333   \n",
       "28.01.2022 5:00                      20.303571                      22.566667   \n",
       "28.01.2022 6:00                      19.845238                      22.552778   \n",
       "\n",
       "                  mean30_count_severity_warning  ...  \\\n",
       "EventTime                                        ...   \n",
       "05.09.2019 22:00                            NaN  ...   \n",
       "05.09.2019 23:00                            NaN  ...   \n",
       "06.09.2019 0:00                             NaN  ...   \n",
       "06.09.2019 1:00                             NaN  ...   \n",
       "06.09.2019 2:00                             NaN  ...   \n",
       "...                                         ...  ...   \n",
       "28.01.2022 2:00                       32.850000  ...   \n",
       "28.01.2022 3:00                       32.781944  ...   \n",
       "28.01.2022 4:00                       32.770833  ...   \n",
       "28.01.2022 5:00                       32.772222  ...   \n",
       "28.01.2022 6:00                       32.776389  ...   \n",
       "\n",
       "                  temp_prirost30_severity_critical  ratio_left7_severity_info  \\\n",
       "EventTime                                                                       \n",
       "05.09.2019 22:00                               NaN                        NaN   \n",
       "05.09.2019 23:00                               NaN                        NaN   \n",
       "06.09.2019 0:00                                NaN                        NaN   \n",
       "06.09.2019 1:00                                NaN                        NaN   \n",
       "06.09.2019 2:00                                NaN                        NaN   \n",
       "...                                            ...                        ...   \n",
       "28.01.2022 2:00                       41894.134897                   1.858564   \n",
       "28.01.2022 3:00                       42471.866871                   1.860376   \n",
       "28.01.2022 4:00                       53434.928230                   1.866522   \n",
       "28.01.2022 5:00                       48607.386364                   1.866765   \n",
       "28.01.2022 6:00                       59916.538949                   1.869723   \n",
       "\n",
       "                  ratio_left15_severity_info  ratio_left30_severity_info  \\\n",
       "EventTime                                                                  \n",
       "05.09.2019 22:00                         NaN                         NaN   \n",
       "05.09.2019 23:00                         NaN                         NaN   \n",
       "06.09.2019 0:00                          NaN                         NaN   \n",
       "06.09.2019 1:00                          NaN                         NaN   \n",
       "06.09.2019 2:00                          NaN                         NaN   \n",
       "...                                      ...                         ...   \n",
       "28.01.2022 2:00                     0.406572                    0.098479   \n",
       "28.01.2022 3:00                     0.406616                    0.098510   \n",
       "28.01.2022 4:00                     0.406606                    0.098512   \n",
       "28.01.2022 5:00                     0.406585                    0.098513   \n",
       "28.01.2022 6:00                     0.406565                    0.098511   \n",
       "\n",
       "                  ratio_left7_severity_warning  ratio_left15_severity_warning  \\\n",
       "EventTime                                                                       \n",
       "05.09.2019 22:00                           NaN                            NaN   \n",
       "05.09.2019 23:00                           NaN                            NaN   \n",
       "06.09.2019 0:00                            NaN                            NaN   \n",
       "06.09.2019 1:00                            NaN                            NaN   \n",
       "06.09.2019 2:00                            NaN                            NaN   \n",
       "...                                        ...                            ...   \n",
       "28.01.2022 2:00                       0.166527                       0.036101   \n",
       "28.01.2022 3:00                       0.164622                       0.036040   \n",
       "28.01.2022 4:00                       0.159930                       0.036045   \n",
       "28.01.2022 5:00                       0.159380                       0.036037   \n",
       "28.01.2022 6:00                       0.156625                       0.036029   \n",
       "\n",
       "                  ratio_left30_severity_warning  \\\n",
       "EventTime                                         \n",
       "05.09.2019 22:00                            NaN   \n",
       "05.09.2019 23:00                            NaN   \n",
       "06.09.2019 0:00                             NaN   \n",
       "06.09.2019 1:00                             NaN   \n",
       "06.09.2019 2:00                             NaN   \n",
       "...                                         ...   \n",
       "28.01.2022 2:00                        0.012299   \n",
       "28.01.2022 3:00                        0.012266   \n",
       "28.01.2022 4:00                        0.012263   \n",
       "28.01.2022 5:00                        0.012258   \n",
       "28.01.2022 6:00                        0.012257   \n",
       "\n",
       "                  ratio_left7_severity_critical  \\\n",
       "EventTime                                         \n",
       "05.09.2019 22:00                            NaN   \n",
       "05.09.2019 23:00                            NaN   \n",
       "06.09.2019 0:00                             NaN   \n",
       "06.09.2019 1:00                             NaN   \n",
       "06.09.2019 2:00                             NaN   \n",
       "...                                         ...   \n",
       "28.01.2022 2:00                        0.015725   \n",
       "28.01.2022 3:00                        0.015819   \n",
       "28.01.2022 4:00                        0.014365   \n",
       "28.01.2022 5:00                        0.014672   \n",
       "28.01.2022 6:00                        0.014469   \n",
       "\n",
       "                  ratio_left15_severity_critical  \\\n",
       "EventTime                                          \n",
       "05.09.2019 22:00                             NaN   \n",
       "05.09.2019 23:00                             NaN   \n",
       "06.09.2019 0:00                              NaN   \n",
       "06.09.2019 1:00                              NaN   \n",
       "06.09.2019 2:00                              NaN   \n",
       "...                                          ...   \n",
       "28.01.2022 2:00                         0.001772   \n",
       "28.01.2022 3:00                         0.001788   \n",
       "28.01.2022 4:00                         0.001793   \n",
       "28.01.2022 5:00                         0.001823   \n",
       "28.01.2022 6:00                         0.001850   \n",
       "\n",
       "                  ratio_left30_severity_critical  \n",
       "EventTime                                         \n",
       "05.09.2019 22:00                             NaN  \n",
       "05.09.2019 23:00                             NaN  \n",
       "06.09.2019 0:00                              NaN  \n",
       "06.09.2019 1:00                              NaN  \n",
       "06.09.2019 2:00                              NaN  \n",
       "...                                          ...  \n",
       "28.01.2022 2:00                         0.000334  \n",
       "28.01.2022 3:00                         0.000336  \n",
       "28.01.2022 4:00                         0.000336  \n",
       "28.01.2022 5:00                         0.000340  \n",
       "28.01.2022 6:00                         0.000343  \n",
       "\n",
       "[20967 rows x 114 columns]"
      ]
     },
     "execution_count": 5,
     "metadata": {},
     "output_type": "execute_result"
    }
   ],
   "source": [
    "df"
   ]
  },
  {
   "cell_type": "markdown",
   "id": "f2179223-1577-477c-bef4-07abe1d59a17",
   "metadata": {},
   "source": [
    "## 2. Входные параметры"
   ]
  },
  {
   "cell_type": "markdown",
   "id": "4424211d-070b-46fc-b3be-83b21374f6da",
   "metadata": {},
   "source": [
    "Так как состояние работоспособности станции зависит от количества сообщений, то соответсвенно количество аварийных и предупредительных сообщений будут вносить наибольший вклад в общий показатель состояния работоспособности станции"
   ]
  },
  {
   "cell_type": "code",
   "execution_count": 3,
   "id": "7363fcac-a462-43c7-ad4f-b07948ce6079",
   "metadata": {},
   "outputs": [],
   "source": [
    "# Подключение визуализации\n",
    "import matplotlib.pyplot as plt \n",
    "import matplotlib.dates as mdates\n",
    "import pylab as pl\n",
    "from matplotlib import ticker\n",
    "from datetime import date\n",
    "\n",
    "plt.rcParams['figure.figsize'] = (20, 10)\n",
    "plt.style.use('fivethirtyeight')"
   ]
  },
  {
   "cell_type": "markdown",
   "id": "b2fbbeb8-34de-4789-9566-7b433120c0cc",
   "metadata": {},
   "source": [
    "### Визуализация количества сообщений в час"
   ]
  },
  {
   "cell_type": "code",
   "execution_count": 7,
   "id": "def19755-fd9e-4205-8ec1-582fe73ef998",
   "metadata": {},
   "outputs": [
    {
     "data": {
      "text/plain": [
       "<AxesSubplot:xlabel='EventTime'>"
      ]
     },
     "execution_count": 7,
     "metadata": {},
     "output_type": "execute_result"
    },
    {
     "data": {
      "image/png": "[encoded data removed]",
      "text/plain": [
       "<Figure size 432x288 with 1 Axes>"
      ]
     },
     "metadata": {
      "needs_background": "light"
     },
     "output_type": "display_data"
    }
   ],
   "source": [
    "ax = plt.gca()\n",
    "plt.gcf().autofmt_xdate()\n",
    "df.plot(kind='line',use_index=True, y='count_severity_info',color='green', ax=ax)\n",
    "df.plot(kind='line',use_index=True, y='count_severity_warning',color='yellow', ax=ax)\n",
    "df.plot(kind='line',use_index=True, y='count_severity_critical',color='red', ax=ax)"
   ]
  },
  {
   "cell_type": "code",
   "execution_count": 8,
   "id": "f75f7f5f-17e5-4122-9ca1-ff8c645de515",
   "metadata": {},
   "outputs": [
    {
     "data": {
      "text/plain": [
       "<AxesSubplot:xlabel='EventTime'>"
      ]
     },
     "execution_count": 8,
     "metadata": {},
     "output_type": "execute_result"
    },
    {
     "data": {
      "image/png": "[encoded data removed]",
      "text/plain": [
       "<Figure size 432x288 with 1 Axes>"
      ]
     },
     "metadata": {
      "needs_background": "light"
     },
     "output_type": "display_data"
    }
   ],
   "source": [
    "ax = plt.gca()\n",
    "plt.gcf().autofmt_xdate()\n",
    "df.plot(kind='line',use_index=True, y='count_severity_info',color='green', ax=ax)\n",
    "df.plot(kind='line',use_index=True, y='count_severity_warning',color='yellow', ax=ax)\n",
    "df.plot(kind='line',use_index=True, y='count_severity_critical',color='red', ax=ax)"
   ]
  },
  {
   "cell_type": "markdown",
   "id": "acd02b9e-c488-4cc5-8118-821d17daba4b",
   "metadata": {},
   "source": [
    "```\n",
    "По графику видно, что в работоспособности станции наблюдаются \"взрывные\" всплески количества сообщений, что характеризует высокую степень нештатной работы станции. Задача модели заранее предсказовать степень нештатной работоспособности станции, чтобы в случае повышенного значения предпринять заблаговременные действия по предотвращению аварийности. Для дальнейшей работы необходимо решить следующие задачи:\n",
    "    1. Подготовить показатель характерезующий степень нештатной ситуации работоспособности станции\n",
    "    2. Определить входные данные\n",
    "    3. Уменьшить влияние \"взрывных\" всплесках в количестве сообщений\n",
    "```"
   ]
  },
  {
   "cell_type": "markdown",
   "id": "685cd3a0-3aa0-4244-8ab3-8f77ad06e1e9",
   "metadata": {},
   "source": [
    "В качестве решения  задачи №3 вместо показателя количество сообщений в час выбран отношения количества сообщений по важности к общему количеству"
   ]
  },
  {
   "cell_type": "code",
   "execution_count": 9,
   "id": "61b11b49-1043-49c7-8874-0e023ef37994",
   "metadata": {},
   "outputs": [],
   "source": [
    "def ratio_count(data, severity_name):\n",
    "    data[f'ratio_count_{severity_name}'] = data[f'count_{severity_name}'] / data['count_total']"
   ]
  },
  {
   "cell_type": "code",
   "execution_count": 10,
   "id": "68505fe9-b176-470d-9c84-b54ec5d803ff",
   "metadata": {},
   "outputs": [],
   "source": [
    "ratio_count(df, 'severity_info')\n",
    "ratio_count(df, 'severity_warning')\n",
    "ratio_count(df, 'severity_critical')"
   ]
  },
  {
   "cell_type": "markdown",
   "id": "b7d13ae0-386a-41f4-b484-56732ae8c085",
   "metadata": {},
   "source": [
    "### Отношение аварийных сообщений к общему числу"
   ]
  },
  {
   "cell_type": "code",
   "execution_count": 11,
   "id": "029cb70d-b9b3-4b6f-8f23-a47c9956992b",
   "metadata": {},
   "outputs": [
    {
     "data": {
      "text/plain": [
       "<AxesSubplot:xlabel='EventTime'>"
      ]
     },
     "execution_count": 11,
     "metadata": {},
     "output_type": "execute_result"
    },
    {
     "data": {
      "image/png": "[encoded data removed]",
      "text/plain": [
       "<Figure size 432x288 with 1 Axes>"
      ]
     },
     "metadata": {
      "needs_background": "light"
     },
     "output_type": "display_data"
    }
   ],
   "source": [
    "ax = plt.gca()\n",
    "plt.gcf().autofmt_xdate()\n",
    "df.plot(kind='line',use_index=True, y='ratio_count_severity_critical',color='red', ax=ax)"
   ]
  },
  {
   "cell_type": "markdown",
   "id": "760e240a-063b-498d-8c50-bd73c8e97d03",
   "metadata": {},
   "source": [
    "### Отношение предупредительных сообщений к общему числу"
   ]
  },
  {
   "cell_type": "code",
   "execution_count": 12,
   "id": "54af84a6-fad0-48bc-8b0d-e42e2a8b140e",
   "metadata": {},
   "outputs": [
    {
     "data": {
      "text/plain": [
       "<AxesSubplot:xlabel='EventTime'>"
      ]
     },
     "execution_count": 12,
     "metadata": {},
     "output_type": "execute_result"
    },
    {
     "data": {
      "image/png": "[encoded data removed]",
      "text/plain": [
       "<Figure size 432x288 with 1 Axes>"
      ]
     },
     "metadata": {
      "needs_background": "light"
     },
     "output_type": "display_data"
    }
   ],
   "source": [
    "ax = plt.gca()\n",
    "plt.gcf().autofmt_xdate()\n",
    "df.plot(kind='line',use_index=True, y='ratio_count_severity_warning',color='yellow', ax=ax)"
   ]
  },
  {
   "cell_type": "markdown",
   "id": "1a74e695-59b3-4c62-abbd-348fe00edace",
   "metadata": {},
   "source": [
    "По графиком видно, что отношения сообщений по важности к общему числу, находяться в одном масштабе, и как следствие уменьшает воздействие \"взравных\" всплесков количества сообщений"
   ]
  },
  {
   "cell_type": "markdown",
   "id": "f0d53f71-a8fd-49ab-a073-e2465ec7f416",
   "metadata": {},
   "source": [
    "### Определение показателя степени нештатной работоспособности станции"
   ]
  },
  {
   "cell_type": "markdown",
   "id": "8852331c-1e14-4690-ae5f-f93ee4a65ecf",
   "metadata": {},
   "source": [
    "```\n",
    "Показатель степени нештатной работоспособности станции определ как среднеквадатичное значение от отношения количества авариных и предупредительных сообщений к общему числу. Приемущество данного показателя в следующем:\n",
    "1. Коррелирует с авариными и предупредительными сообщениями\n",
    "2. \n",
    "```"
   ]
  },
  {
   "cell_type": "code",
   "execution_count": 13,
   "id": "bcf83898-cbc8-48d3-a0f7-26bca6476035",
   "metadata": {},
   "outputs": [],
   "source": [
    "from numpy import sqrt\n",
    "\n",
    "# Коэффициент выравнивающий масштаб аварийных и предупредительных сообщений**\n",
    "A = 2\n",
    "\n",
    "# Функция расчёта модели показателя нештатной работоспособности станции\n",
    "def state(data):\n",
    "    data['state'] = sqrt((A*data['ratio_count_severity_critical'])**2 + data['ratio_count_severity_warning']**2)"
   ]
  },
  {
   "cell_type": "code",
   "execution_count": 14,
   "id": "7b914b8d-6856-4d2a-81f7-0c998c669f0e",
   "metadata": {},
   "outputs": [],
   "source": [
    "state(df)"
   ]
  },
  {
   "cell_type": "markdown",
   "id": "5e6e4521-ecc8-46f8-81a5-ea02af024d00",
   "metadata": {},
   "source": [
    "### Степень нештатной работоспособности станции"
   ]
  },
  {
   "cell_type": "code",
   "execution_count": 15,
   "id": "dfa42fe3-668c-4ac6-813c-59ac9dde7687",
   "metadata": {},
   "outputs": [
    {
     "data": {
      "text/plain": [
       "<AxesSubplot:xlabel='EventTime'>"
      ]
     },
     "execution_count": 15,
     "metadata": {},
     "output_type": "execute_result"
    },
    {
     "data": {
      "image/png": "[encoded data removed]",
      "text/plain": [
       "<Figure size 432x288 with 1 Axes>"
      ]
     },
     "metadata": {
      "needs_background": "light"
     },
     "output_type": "display_data"
    }
   ],
   "source": [
    "df['state'].plot()"
   ]
  },
  {
   "cell_type": "markdown",
   "id": "469146ed-c449-46af-bb2e-013ef63e3763",
   "metadata": {},
   "source": [
    "** так как масштаб доли аварийных сообщений меньше долей предупредительных сообщений - то необходимо выровнить масштаб данных значений. На данный момент для этой задачи внесен коэффициент для долей авариный сообщений"
   ]
  },
  {
   "cell_type": "markdown",
   "id": "2f90943e-d8a5-45cc-9e71-69988a871bb2",
   "metadata": {},
   "source": [
    "### Нормализация степени нештатной работоспособности станции"
   ]
  },
  {
   "cell_type": "markdown",
   "id": "83ac582d-0c6d-4ff0-9248-b4da16e009a0",
   "metadata": {},
   "source": [
    "Нормализация проводится для того, чтобы привести к масштабу от 0 до 1 - что удобно отображать как в процентном отношении: 100% - станция в аварийном режиме\n"
   ]
  },
  {
   "cell_type": "code",
   "execution_count": 16,
   "id": "071fcb85-bde3-420f-b8ff-19606c5ff377",
   "metadata": {},
   "outputs": [],
   "source": [
    "df['state_target'] = (df['state'] - df['state'].min()) / (df['state'].max() - df['state'].min())"
   ]
  },
  {
   "cell_type": "markdown",
   "id": "4d88af77-387a-4a40-a410-efb943ee9953",
   "metadata": {},
   "source": [
    "### Состояния модели за предыдущие дни"
   ]
  },
  {
   "cell_type": "code",
   "execution_count": 17,
   "id": "0230fa0e-0103-4080-96f2-e60282de432c",
   "metadata": {},
   "outputs": [],
   "source": [
    "df['state_1d'] = df['state_target'].shift(1)\n",
    "df['state_2d'] = df['state_target'].shift(2)\n",
    "df['state_3d'] = df['state_target'].shift(3)"
   ]
  },
  {
   "cell_type": "markdown",
   "id": "a968b2d3-ad8c-43a5-ba07-7336375cbecb",
   "metadata": {
    "tags": []
   },
   "source": [
    "## 3. Обучение модели"
   ]
  },
  {
   "cell_type": "code",
   "execution_count": 18,
   "id": "153b503e-11cf-4952-9fab-7e8de170cce1",
   "metadata": {},
   "outputs": [],
   "source": [
    "df['qstate_normalize_mean_7h'] = df['state_target'].rolling(window=7).mean()\n",
    "\n",
    "data = df.copy()\n",
    "\n",
    "data.dropna(inplace=True)\n",
    "\n",
    "# Входные данные\n",
    "X = data[['ratio_count_severity_critical', 'ratio_count_severity_warning', 'ratio_count_severity_info', 'state_1d', 'state_2d', 'state_3d', 'qstate_normalize_mean_7h']]\n",
    "# Выходные данные\n",
    "y = data['state_target']"
   ]
  },
  {
   "cell_type": "code",
   "execution_count": 19,
   "id": "aa28ff73-e623-4fa3-847c-0c8f87a12ecf",
   "metadata": {},
   "outputs": [],
   "source": [
    "from sklearn.model_selection import train_test_split\n",
    "\n",
    "X_train, X_test, y_train, y_test = train_test_split(X, y, test_size=0.33)"
   ]
  },
  {
   "cell_type": "markdown",
   "id": "88a17c73-8bc4-45dc-94d1-dc4109468b95",
   "metadata": {
    "jp-MarkdownHeadingCollapsed": true,
    "tags": []
   },
   "source": [
    "### Модель линейной регрессии"
   ]
  },
  {
   "cell_type": "code",
   "execution_count": 20,
   "id": "c18db2fd-6458-4e07-82d6-547a85e96240",
   "metadata": {},
   "outputs": [
    {
     "data": {
      "text/html": [
       "<style>#sk-container-id-1 {color: black;background-color: white;}#sk-container-id-1 pre{padding: 0;}#sk-container-id-1 div.sk-toggleable {background-color: white;}#sk-container-id-1 label.sk-toggleable__label {cursor: pointer;display: block;width: 100%;margin-bottom: 0;padding: 0.3em;box-sizing: border-box;text-align: center;}#sk-container-id-1 label.sk-toggleable__label-arrow:before {content: \"▸\";float: left;margin-right: 0.25em;color: #696969;}#sk-container-id-1 label.sk-toggleable__label-arrow:hover:before {color: black;}#sk-container-id-1 div.sk-estimator:hover label.sk-toggleable__label-arrow:before {color: black;}#sk-container-id-1 div.sk-toggleable__content {max-height: 0;max-width: 0;overflow: hidden;text-align: left;background-color: #f0f8ff;}#sk-container-id-1 div.sk-toggleable__content pre {margin: 0.2em;color: black;border-radius: 0.25em;background-color: #f0f8ff;}#sk-container-id-1 input.sk-toggleable__control:checked~div.sk-toggleable__content {max-height: 200px;max-width: 100%;overflow: auto;}#sk-container-id-1 input.sk-toggleable__control:checked~label.sk-toggleable__label-arrow:before {content: \"▾\";}#sk-container-id-1 div.sk-estimator input.sk-toggleable__control:checked~label.sk-toggleable__label {background-color: #d4ebff;}#sk-container-id-1 div.sk-label input.sk-toggleable__control:checked~label.sk-toggleable__label {background-color: #d4ebff;}#sk-container-id-1 input.sk-hidden--visually {border: 0;clip: rect(1px 1px 1px 1px);clip: rect(1px, 1px, 1px, 1px);height: 1px;margin: -1px;overflow: hidden;padding: 0;position: absolute;width: 1px;}#sk-container-id-1 div.sk-estimator {font-family: monospace;background-color: #f0f8ff;border: 1px dotted black;border-radius: 0.25em;box-sizing: border-box;margin-bottom: 0.5em;}#sk-container-id-1 div.sk-estimator:hover {background-color: #d4ebff;}#sk-container-id-1 div.sk-parallel-item::after {content: \"\";width: 100%;border-bottom: 1px solid gray;flex-grow: 1;}#sk-container-id-1 div.sk-label:hover label.sk-toggleable__label {background-color: #d4ebff;}#sk-container-id-1 div.sk-serial::before {content: \"\";position: absolute;border-left: 1px solid gray;box-sizing: border-box;top: 0;bottom: 0;left: 50%;z-index: 0;}#sk-container-id-1 div.sk-serial {display: flex;flex-direction: column;align-items: center;background-color: white;padding-right: 0.2em;padding-left: 0.2em;position: relative;}#sk-container-id-1 div.sk-item {position: relative;z-index: 1;}#sk-container-id-1 div.sk-parallel {display: flex;align-items: stretch;justify-content: center;background-color: white;position: relative;}#sk-container-id-1 div.sk-item::before, #sk-container-id-1 div.sk-parallel-item::before {content: \"\";position: absolute;border-left: 1px solid gray;box-sizing: border-box;top: 0;bottom: 0;left: 50%;z-index: -1;}#sk-container-id-1 div.sk-parallel-item {display: flex;flex-direction: column;z-index: 1;position: relative;background-color: white;}#sk-container-id-1 div.sk-parallel-item:first-child::after {align-self: flex-end;width: 50%;}#sk-container-id-1 div.sk-parallel-item:last-child::after {align-self: flex-start;width: 50%;}#sk-container-id-1 div.sk-parallel-item:only-child::after {width: 0;}#sk-container-id-1 div.sk-dashed-wrapped {border: 1px dashed gray;margin: 0 0.4em 0.5em 0.4em;box-sizing: border-box;padding-bottom: 0.4em;background-color: white;}#sk-container-id-1 div.sk-label label {font-family: monospace;font-weight: bold;display: inline-block;line-height: 1.2em;}#sk-container-id-1 div.sk-label-container {text-align: center;}#sk-container-id-1 div.sk-container {/* jupyter's `normalize.less` sets `[hidden] { display: none; }` but bootstrap.min.css set `[hidden] { display: none !important; }` so we also need the `!important` here to be able to override the default hidden behavior on the sphinx rendered scikit-learn.org. See: https://github.com/scikit-learn/scikit-learn/issues/21755 */display: inline-block !important;position: relative;}#sk-container-id-1 div.sk-text-repr-fallback {display: none;}</style><div id=\"sk-container-id-1\" class=\"sk-top-container\"><div class=\"sk-text-repr-fallback\"><pre>LinearRegression()</pre><b>In a Jupyter environment, please rerun this cell to show the HTML representation or trust the notebook. <br />On GitHub, the HTML representation is unable to render, please try loading this page with nbviewer.org.</b></div><div class=\"sk-container\" hidden><div class=\"sk-item\"><div class=\"sk-estimator sk-toggleable\"><input class=\"sk-toggleable__control sk-hidden--visually\" id=\"sk-estimator-id-1\" type=\"checkbox\" checked><label for=\"sk-estimator-id-1\" class=\"sk-toggleable__label sk-toggleable__label-arrow\">LinearRegression</label><div class=\"sk-toggleable__content\"><pre>LinearRegression()</pre></div></div></div></div></div>"
      ],
      "text/plain": [
       "LinearRegression()"
      ]
     },
     "execution_count": 20,
     "metadata": {},
     "output_type": "execute_result"
    }
   ],
   "source": [
    "from sklearn.linear_model import LinearRegression\n",
    "\n",
    "model_linear_regression = LinearRegression()\n",
    "\n",
    "model_linear_regression.fit(X_train, y_train)"
   ]
  },
  {
   "cell_type": "code",
   "execution_count": 21,
   "id": "db994168-1197-408d-92c8-81673f62da7f",
   "metadata": {
    "collapsed": true,
    "jupyter": {
     "outputs_hidden": true,
     "source_hidden": true
    },
    "tags": []
   },
   "outputs": [
    {
     "name": "stdout",
     "output_type": "stream",
     "text": [
      "train_score = 0.9673144576809625\n",
      "test_score = 0.9669634213244408\n"
     ]
    }
   ],
   "source": [
    "train_score = model_linear_regression.score(X_train, y_train)\n",
    "test_score = model_linear_regression.score(X_test, y_test)\n",
    "\n",
    "print(f'train_score = {train_score}')\n",
    "print(f'test_score = {test_score}')"
   ]
  },
  {
   "cell_type": "code",
   "execution_count": 22,
   "id": "0b4fcb54-a682-4b40-a33c-fbc681407eaa",
   "metadata": {},
   "outputs": [],
   "source": [
    "from sklearn.metrics import max_error\n",
    "from sklearn.metrics import mean_absolute_error"
   ]
  },
  {
   "cell_type": "code",
   "execution_count": 23,
   "id": "5de92cfc-f864-40c4-bf76-2e83a475b51d",
   "metadata": {},
   "outputs": [
    {
     "name": "stdout",
     "output_type": "stream",
     "text": [
      "Max Error = 0.23120116345078878\n",
      "Mean Abs Error = 0.008429021895653666\n"
     ]
    }
   ],
   "source": [
    "y_pred = model_linear_regression.predict(X_test)\n",
    "\n",
    "print(f'Max Error = {max_error(y_pred, y_test)}')\n",
    "print(f'Mean Abs Error = {mean_absolute_error(y_pred, y_test)}')"
   ]
  },
  {
   "cell_type": "code",
   "execution_count": 24,
   "id": "362fa499-4937-4926-b919-b08e113e3961",
   "metadata": {},
   "outputs": [
    {
     "data": {
      "text/html": [
       "<div>\n",
       "<style scoped>\n",
       "    .dataframe tbody tr th:only-of-type {\n",
       "        vertical-align: middle;\n",
       "    }\n",
       "\n",
       "    .dataframe tbody tr th {\n",
       "        vertical-align: top;\n",
       "    }\n",
       "\n",
       "    .dataframe thead th {\n",
       "        text-align: right;\n",
       "    }\n",
       "</style>\n",
       "<table border=\"1\" class=\"dataframe\">\n",
       "  <thead>\n",
       "    <tr style=\"text-align: right;\">\n",
       "      <th></th>\n",
       "      <th>0</th>\n",
       "    </tr>\n",
       "  </thead>\n",
       "  <tbody>\n",
       "    <tr>\n",
       "      <th>ratio_count_severity_critical</th>\n",
       "      <td>0.605542</td>\n",
       "    </tr>\n",
       "    <tr>\n",
       "      <th>ratio_count_severity_warning</th>\n",
       "      <td>0.150237</td>\n",
       "    </tr>\n",
       "    <tr>\n",
       "      <th>ratio_count_severity_info</th>\n",
       "      <td>-0.755779</td>\n",
       "    </tr>\n",
       "    <tr>\n",
       "      <th>state_1d</th>\n",
       "      <td>0.003887</td>\n",
       "    </tr>\n",
       "    <tr>\n",
       "      <th>state_2d</th>\n",
       "      <td>-0.008248</td>\n",
       "    </tr>\n",
       "    <tr>\n",
       "      <th>state_3d</th>\n",
       "      <td>-0.019891</td>\n",
       "    </tr>\n",
       "    <tr>\n",
       "      <th>qstate_normalize_mean_7h</th>\n",
       "      <td>0.060417</td>\n",
       "    </tr>\n",
       "  </tbody>\n",
       "</table>\n",
       "</div>"
      ],
      "text/plain": [
       "                                      0\n",
       "ratio_count_severity_critical  0.605542\n",
       "ratio_count_severity_warning   0.150237\n",
       "ratio_count_severity_info     -0.755779\n",
       "state_1d                       0.003887\n",
       "state_2d                      -0.008248\n",
       "state_3d                      -0.019891\n",
       "qstate_normalize_mean_7h       0.060417"
      ]
     },
     "execution_count": 24,
     "metadata": {},
     "output_type": "execute_result"
    }
   ],
   "source": [
    "# Коэфициенты модели\n",
    "\n",
    "pd.DataFrame(data=[model_linear_regression.coef_], columns = X.columns).T"
   ]
  },
  {
   "cell_type": "code",
   "execution_count": 25,
   "id": "4dca0305-97b1-4d1e-a117-4c0753f7af4c",
   "metadata": {},
   "outputs": [
    {
     "name": "stdout",
     "output_type": "stream",
     "text": [
      "train_score = 0.9997467974494296\n",
      "test_score = 0.9989656711915592\n",
      "Max Error = 0.0891555495365619\n",
      "Mean Abs Error = 0.0003794613283007144\n"
     ]
    },
    {
     "data": {
      "image/png": "[encoded data removed]",
      "text/plain": [
       "<Figure size 432x288 with 1 Axes>"
      ]
     },
     "metadata": {
      "needs_background": "light"
     },
     "output_type": "display_data"
    }
   ],
   "source": [
    "### Модель RandomForestRegressor\n",
    "\n",
    "def train_and_evaluate_model(model):\n",
    "    model.fit(X_train, y_train)\n",
    "    train_score = model.score(X_train, y_train)\n",
    "    test_score = model.score(X_test, y_test)\n",
    "\n",
    "    print(f'train_score = {train_score}')\n",
    "    print(f'test_score = {test_score}')\n",
    "    \n",
    "    y_pred = model.predict(X_test)\n",
    "\n",
    "    print(f'Max Error = {max_error(y_pred, y_test)}')\n",
    "    print(f'Mean Abs Error = {mean_absolute_error(y_pred, y_test)}')\n",
    "    \n",
    "    y_full_pred = model.predict(X)\n",
    "    pd.Series(list(y - y_full_pred)).plot()\n",
    "\n",
    "from sklearn.ensemble import RandomForestRegressor\n",
    "\n",
    "rfr = RandomForestRegressor(100)\n",
    "\n",
    "train_and_evaluate_model(rfr)"
   ]
  },
  {
   "cell_type": "markdown",
   "id": "21c6e3ea-9695-4f14-98bc-99ddd20560d3",
   "metadata": {},
   "source": [
    "*** На графике ошибка модели"
   ]
  },
  {
   "cell_type": "markdown",
   "id": "946a184a-3b93-4c50-a973-e5ba1eb3cb2e",
   "metadata": {
    "tags": []
   },
   "source": [
    "### Модель нейронной сети Sequential"
   ]
  },
  {
   "cell_type": "code",
   "execution_count": 26,
   "id": "44cce7b5-218b-49a1-ab59-243aded49326",
   "metadata": {},
   "outputs": [
    {
     "name": "stdout",
     "output_type": "stream",
     "text": [
      "Requirement already satisfied: tensorflow in /opt/conda/lib/python3.9/site-packages (2.9.0)\n",
      "Requirement already satisfied: grpcio<2.0,>=1.24.3 in /opt/conda/lib/python3.9/site-packages (from tensorflow) (1.46.3)\n",
      "Requirement already satisfied: tensorflow-estimator<2.10.0,>=2.9.0rc0 in /opt/conda/lib/python3.9/site-packages (from tensorflow) (2.9.0)\n",
      "Requirement already satisfied: flatbuffers<2,>=1.12 in /opt/conda/lib/python3.9/site-packages (from tensorflow) (1.12)\n",
      "Requirement already satisfied: setuptools in /opt/conda/lib/python3.9/site-packages (from tensorflow) (62.2.0)\n",
      "Requirement already satisfied: tensorboard<2.10,>=2.9 in /opt/conda/lib/python3.9/site-packages (from tensorflow) (2.9.0)\n",
      "Requirement already satisfied: google-pasta>=0.1.1 in /opt/conda/lib/python3.9/site-packages (from tensorflow) (0.2.0)\n",
      "Requirement already satisfied: wrapt>=1.11.0 in /opt/conda/lib/python3.9/site-packages (from tensorflow) (1.14.1)\n",
      "Requirement already satisfied: astunparse>=1.6.0 in /opt/conda/lib/python3.9/site-packages (from tensorflow) (1.6.3)\n",
      "Requirement already satisfied: libclang>=13.0.0 in /opt/conda/lib/python3.9/site-packages (from tensorflow) (14.0.1)\n",
      "Requirement already satisfied: protobuf>=3.9.2 in /opt/conda/lib/python3.9/site-packages (from tensorflow) (3.20.1)\n",
      "Requirement already satisfied: opt-einsum>=2.3.2 in /opt/conda/lib/python3.9/site-packages (from tensorflow) (3.3.0)\n",
      "Requirement already satisfied: absl-py>=1.0.0 in /opt/conda/lib/python3.9/site-packages (from tensorflow) (1.0.0)\n",
      "Requirement already satisfied: six>=1.12.0 in /opt/conda/lib/python3.9/site-packages (from tensorflow) (1.16.0)\n",
      "Requirement already satisfied: keras-preprocessing>=1.1.1 in /opt/conda/lib/python3.9/site-packages (from tensorflow) (1.1.2)\n",
      "Requirement already satisfied: h5py>=2.9.0 in /opt/conda/lib/python3.9/site-packages (from tensorflow) (3.6.0)\n",
      "Requirement already satisfied: termcolor>=1.1.0 in /opt/conda/lib/python3.9/site-packages (from tensorflow) (1.1.0)\n",
      "Requirement already satisfied: numpy>=1.20 in /opt/conda/lib/python3.9/site-packages (from tensorflow) (1.21.6)\n",
      "Requirement already satisfied: keras<2.10.0,>=2.9.0rc0 in /opt/conda/lib/python3.9/site-packages (from tensorflow) (2.9.0)\n",
      "Requirement already satisfied: tensorflow-io-gcs-filesystem>=0.23.1 in /opt/conda/lib/python3.9/site-packages (from tensorflow) (0.26.0)\n",
      "Requirement already satisfied: typing-extensions>=3.6.6 in /opt/conda/lib/python3.9/site-packages (from tensorflow) (4.2.0)\n",
      "Requirement already satisfied: gast<=0.4.0,>=0.2.1 in /opt/conda/lib/python3.9/site-packages (from tensorflow) (0.4.0)\n",
      "Requirement already satisfied: packaging in /opt/conda/lib/python3.9/site-packages (from tensorflow) (21.3)\n",
      "Requirement already satisfied: wheel<1.0,>=0.23.0 in /opt/conda/lib/python3.9/site-packages (from astunparse>=1.6.0->tensorflow) (0.37.1)\n",
      "Requirement already satisfied: google-auth-oauthlib<0.5,>=0.4.1 in /opt/conda/lib/python3.9/site-packages (from tensorboard<2.10,>=2.9->tensorflow) (0.4.6)\n",
      "Requirement already satisfied: tensorboard-plugin-wit>=1.6.0 in /opt/conda/lib/python3.9/site-packages (from tensorboard<2.10,>=2.9->tensorflow) (1.8.1)\n",
      "Requirement already satisfied: tensorboard-data-server<0.7.0,>=0.6.0 in /opt/conda/lib/python3.9/site-packages (from tensorboard<2.10,>=2.9->tensorflow) (0.6.1)\n",
      "Requirement already satisfied: markdown>=2.6.8 in /opt/conda/lib/python3.9/site-packages (from tensorboard<2.10,>=2.9->tensorflow) (3.3.7)\n",
      "Requirement already satisfied: werkzeug>=1.0.1 in /opt/conda/lib/python3.9/site-packages (from tensorboard<2.10,>=2.9->tensorflow) (2.1.2)\n",
      "Requirement already satisfied: requests<3,>=2.21.0 in /opt/conda/lib/python3.9/site-packages (from tensorboard<2.10,>=2.9->tensorflow) (2.27.1)\n",
      "Requirement already satisfied: google-auth<3,>=1.6.3 in /opt/conda/lib/python3.9/site-packages (from tensorboard<2.10,>=2.9->tensorflow) (2.6.6)\n",
      "Requirement already satisfied: pyparsing!=3.0.5,>=2.0.2 in /opt/conda/lib/python3.9/site-packages (from packaging->tensorflow) (3.0.9)\n",
      "Requirement already satisfied: cachetools<6.0,>=2.0.0 in /opt/conda/lib/python3.9/site-packages (from google-auth<3,>=1.6.3->tensorboard<2.10,>=2.9->tensorflow) (5.1.0)\n",
      "Requirement already satisfied: pyasn1-modules>=0.2.1 in /opt/conda/lib/python3.9/site-packages (from google-auth<3,>=1.6.3->tensorboard<2.10,>=2.9->tensorflow) (0.2.8)\n",
      "Requirement already satisfied: rsa<5,>=3.1.4 in /opt/conda/lib/python3.9/site-packages (from google-auth<3,>=1.6.3->tensorboard<2.10,>=2.9->tensorflow) (4.8)\n",
      "Requirement already satisfied: requests-oauthlib>=0.7.0 in /opt/conda/lib/python3.9/site-packages (from google-auth-oauthlib<0.5,>=0.4.1->tensorboard<2.10,>=2.9->tensorflow) (1.3.1)\n",
      "Requirement already satisfied: importlib-metadata>=4.4 in /opt/conda/lib/python3.9/site-packages (from markdown>=2.6.8->tensorboard<2.10,>=2.9->tensorflow) (4.11.3)\n",
      "Requirement already satisfied: certifi>=2017.4.17 in /opt/conda/lib/python3.9/site-packages (from requests<3,>=2.21.0->tensorboard<2.10,>=2.9->tensorflow) (2021.10.8)\n",
      "Requirement already satisfied: charset-normalizer~=2.0.0 in /opt/conda/lib/python3.9/site-packages (from requests<3,>=2.21.0->tensorboard<2.10,>=2.9->tensorflow) (2.0.12)\n",
      "Requirement already satisfied: idna<4,>=2.5 in /opt/conda/lib/python3.9/site-packages (from requests<3,>=2.21.0->tensorboard<2.10,>=2.9->tensorflow) (3.3)\n",
      "Requirement already satisfied: urllib3<1.27,>=1.21.1 in /opt/conda/lib/python3.9/site-packages (from requests<3,>=2.21.0->tensorboard<2.10,>=2.9->tensorflow) (1.26.9)\n",
      "Requirement already satisfied: zipp>=0.5 in /opt/conda/lib/python3.9/site-packages (from importlib-metadata>=4.4->markdown>=2.6.8->tensorboard<2.10,>=2.9->tensorflow) (3.8.0)\n",
      "Requirement already satisfied: pyasn1<0.5.0,>=0.4.6 in /opt/conda/lib/python3.9/site-packages (from pyasn1-modules>=0.2.1->google-auth<3,>=1.6.3->tensorboard<2.10,>=2.9->tensorflow) (0.4.8)\n",
      "Requirement already satisfied: oauthlib>=3.0.0 in /opt/conda/lib/python3.9/site-packages (from requests-oauthlib>=0.7.0->google-auth-oauthlib<0.5,>=0.4.1->tensorboard<2.10,>=2.9->tensorflow) (3.2.0)\n"
     ]
    }
   ],
   "source": [
    "!pip install tensorflow"
   ]
  },
  {
   "cell_type": "code",
   "execution_count": 27,
   "id": "6d81c454-5958-45d8-b348-c7f79aff9709",
   "metadata": {},
   "outputs": [
    {
     "name": "stderr",
     "output_type": "stream",
     "text": [
      "2022-05-23 03:12:13.186179: W tensorflow/stream_executor/platform/default/dso_loader.cc:64] Could not load dynamic library 'libcudart.so.11.0'; dlerror: libcudart.so.11.0: cannot open shared object file: No such file or directory\n",
      "2022-05-23 03:12:13.186267: I tensorflow/stream_executor/cuda/cudart_stub.cc:29] Ignore above cudart dlerror if you do not have a GPU set up on your machine.\n",
      "2022-05-23 03:12:16.009291: W tensorflow/stream_executor/platform/default/dso_loader.cc:64] Could not load dynamic library 'libcuda.so.1'; dlerror: libcuda.so.1: cannot open shared object file: No such file or directory\n",
      "2022-05-23 03:12:16.009380: W tensorflow/stream_executor/cuda/cuda_driver.cc:269] failed call to cuInit: UNKNOWN ERROR (303)\n",
      "2022-05-23 03:12:16.009429: I tensorflow/stream_executor/cuda/cuda_diagnostics.cc:156] kernel driver does not appear to be running on this host (513737c139dd): /proc/driver/nvidia/version does not exist\n",
      "2022-05-23 03:12:16.010064: I tensorflow/core/platform/cpu_feature_guard.cc:193] This TensorFlow binary is optimized with oneAPI Deep Neural Network Library (oneDNN) to use the following CPU instructions in performance-critical operations:  AVX2 AVX512F FMA\n",
      "To enable them in other operations, rebuild TensorFlow with the appropriate compiler flags.\n"
     ]
    }
   ],
   "source": [
    "from keras import models\n",
    "from keras import layers\n",
    "\n",
    "s = models.Sequential()\n",
    "s.add(layers.Dense(64, activation='relu', input_shape=(X_train.shape[1],)))\n",
    "s.add(layers.Dense(1))\n",
    "s.compile(optimizer='rmsprop', loss='mse', metrics=['mae'])"
   ]
  },
  {
   "cell_type": "code",
   "execution_count": 28,
   "id": "0fafc9ae-3494-45bc-819a-434c3e9b6222",
   "metadata": {},
   "outputs": [
    {
     "name": "stdout",
     "output_type": "stream",
     "text": [
      "Epoch 1/100\n",
      "12738/12738 [==============================] - 23s 2ms/step - loss: 5.5556e-04 - mae: 0.0119\n",
      "Epoch 2/100\n",
      "12738/12738 [==============================] - 23s 2ms/step - loss: 1.0631e-04 - mae: 0.0069\n",
      "Epoch 3/100\n",
      "12738/12738 [==============================] - 24s 2ms/step - loss: 5.1119e-05 - mae: 0.0050\n",
      "Epoch 4/100\n",
      "12738/12738 [==============================] - 25s 2ms/step - loss: 3.6129e-05 - mae: 0.0041\n",
      "Epoch 5/100\n",
      "12738/12738 [==============================] - 24s 2ms/step - loss: 2.6545e-05 - mae: 0.0035\n",
      "Epoch 6/100\n",
      "12738/12738 [==============================] - 24s 2ms/step - loss: 2.0796e-05 - mae: 0.0031\n",
      "Epoch 7/100\n",
      "12738/12738 [==============================] - 25s 2ms/step - loss: 1.7180e-05 - mae: 0.0028\n",
      "Epoch 8/100\n",
      "12738/12738 [==============================] - 25s 2ms/step - loss: 1.5018e-05 - mae: 0.0026\n",
      "Epoch 9/100\n",
      "12738/12738 [==============================] - 24s 2ms/step - loss: 1.4203e-05 - mae: 0.0025\n",
      "Epoch 10/100\n",
      "12738/12738 [==============================] - 25s 2ms/step - loss: 1.2469e-05 - mae: 0.0024\n",
      "Epoch 11/100\n",
      "12738/12738 [==============================] - 24s 2ms/step - loss: 1.1782e-05 - mae: 0.0024\n",
      "Epoch 12/100\n",
      "12738/12738 [==============================] - 25s 2ms/step - loss: 1.1729e-05 - mae: 0.0023\n",
      "Epoch 13/100\n",
      "12738/12738 [==============================] - 24s 2ms/step - loss: 1.0875e-05 - mae: 0.0023\n",
      "Epoch 14/100\n",
      "12738/12738 [==============================] - 24s 2ms/step - loss: 1.0367e-05 - mae: 0.0022\n",
      "Epoch 15/100\n",
      "12738/12738 [==============================] - 24s 2ms/step - loss: 1.0491e-05 - mae: 0.0022\n",
      "Epoch 16/100\n",
      "12738/12738 [==============================] - 25s 2ms/step - loss: 1.0094e-05 - mae: 0.0022\n",
      "Epoch 17/100\n",
      "12738/12738 [==============================] - 24s 2ms/step - loss: 9.1630e-06 - mae: 0.0021\n",
      "Epoch 18/100\n",
      "12738/12738 [==============================] - 23s 2ms/step - loss: 9.2565e-06 - mae: 0.0021\n",
      "Epoch 19/100\n",
      "12738/12738 [==============================] - 23s 2ms/step - loss: 8.9076e-06 - mae: 0.0021\n",
      "Epoch 20/100\n",
      "12738/12738 [==============================] - 24s 2ms/step - loss: 8.9281e-06 - mae: 0.0021\n",
      "Epoch 21/100\n",
      "12738/12738 [==============================] - 24s 2ms/step - loss: 8.7364e-06 - mae: 0.0020\n",
      "Epoch 22/100\n",
      "12738/12738 [==============================] - 23s 2ms/step - loss: 8.6479e-06 - mae: 0.0020\n",
      "Epoch 23/100\n",
      "12738/12738 [==============================] - 23s 2ms/step - loss: 7.9141e-06 - mae: 0.0020\n",
      "Epoch 24/100\n",
      "12738/12738 [==============================] - 24s 2ms/step - loss: 8.2541e-06 - mae: 0.0020\n",
      "Epoch 25/100\n",
      "12738/12738 [==============================] - 23s 2ms/step - loss: 8.0267e-06 - mae: 0.0020\n",
      "Epoch 26/100\n",
      "12738/12738 [==============================] - 24s 2ms/step - loss: 7.8489e-06 - mae: 0.0020\n",
      "Epoch 27/100\n",
      "12738/12738 [==============================] - 23s 2ms/step - loss: 8.0593e-06 - mae: 0.0020\n",
      "Epoch 28/100\n",
      "12738/12738 [==============================] - 23s 2ms/step - loss: 7.8644e-06 - mae: 0.0019\n",
      "Epoch 29/100\n",
      "12738/12738 [==============================] - 23s 2ms/step - loss: 7.7796e-06 - mae: 0.0019\n",
      "Epoch 30/100\n",
      "12738/12738 [==============================] - 25s 2ms/step - loss: 7.5244e-06 - mae: 0.0019\n",
      "Epoch 31/100\n",
      "12738/12738 [==============================] - 23s 2ms/step - loss: 7.4326e-06 - mae: 0.0019\n",
      "Epoch 32/100\n",
      "12738/12738 [==============================] - 23s 2ms/step - loss: 7.5038e-06 - mae: 0.0019\n",
      "Epoch 33/100\n",
      "12738/12738 [==============================] - 24s 2ms/step - loss: 7.3827e-06 - mae: 0.0019\n",
      "Epoch 34/100\n",
      "12738/12738 [==============================] - 24s 2ms/step - loss: 7.0601e-06 - mae: 0.0019\n",
      "Epoch 35/100\n",
      "12738/12738 [==============================] - 23s 2ms/step - loss: 6.9010e-06 - mae: 0.0018\n",
      "Epoch 36/100\n",
      "12738/12738 [==============================] - 24s 2ms/step - loss: 7.1498e-06 - mae: 0.0018\n",
      "Epoch 37/100\n",
      "12738/12738 [==============================] - 23s 2ms/step - loss: 7.2531e-06 - mae: 0.0018\n",
      "Epoch 38/100\n",
      "12738/12738 [==============================] - 24s 2ms/step - loss: 6.8843e-06 - mae: 0.0018\n",
      "Epoch 39/100\n",
      "12738/12738 [==============================] - 24s 2ms/step - loss: 6.8425e-06 - mae: 0.0018\n",
      "Epoch 40/100\n",
      "12738/12738 [==============================] - 24s 2ms/step - loss: 6.6338e-06 - mae: 0.0018\n",
      "Epoch 41/100\n",
      "12738/12738 [==============================] - 24s 2ms/step - loss: 6.4047e-06 - mae: 0.0017\n",
      "Epoch 42/100\n",
      "12738/12738 [==============================] - 24s 2ms/step - loss: 6.0959e-06 - mae: 0.0017\n",
      "Epoch 43/100\n",
      "12738/12738 [==============================] - 24s 2ms/step - loss: 6.2369e-06 - mae: 0.0017\n",
      "Epoch 44/100\n",
      "12738/12738 [==============================] - 23s 2ms/step - loss: 5.8966e-06 - mae: 0.0017\n",
      "Epoch 45/100\n",
      "12738/12738 [==============================] - 23s 2ms/step - loss: 6.0616e-06 - mae: 0.0017\n",
      "Epoch 46/100\n",
      "12738/12738 [==============================] - 24s 2ms/step - loss: 5.9468e-06 - mae: 0.0017\n",
      "Epoch 47/100\n",
      "12738/12738 [==============================] - 24s 2ms/step - loss: 6.1618e-06 - mae: 0.0017\n",
      "Epoch 48/100\n",
      "12738/12738 [==============================] - 24s 2ms/step - loss: 5.8664e-06 - mae: 0.0017\n",
      "Epoch 49/100\n",
      "12738/12738 [==============================] - 24s 2ms/step - loss: 5.9306e-06 - mae: 0.0017\n",
      "Epoch 50/100\n",
      "12738/12738 [==============================] - 26s 2ms/step - loss: 6.0334e-06 - mae: 0.0017\n",
      "Epoch 51/100\n",
      "12738/12738 [==============================] - 24s 2ms/step - loss: 6.0266e-06 - mae: 0.0017\n",
      "Epoch 52/100\n",
      "12738/12738 [==============================] - 23s 2ms/step - loss: 6.1814e-06 - mae: 0.0017\n",
      "Epoch 53/100\n",
      "12738/12738 [==============================] - 23s 2ms/step - loss: 6.0690e-06 - mae: 0.0017\n",
      "Epoch 54/100\n",
      "12738/12738 [==============================] - 23s 2ms/step - loss: 5.7365e-06 - mae: 0.0017\n",
      "Epoch 55/100\n",
      "12738/12738 [==============================] - 24s 2ms/step - loss: 5.7647e-06 - mae: 0.0017\n",
      "Epoch 56/100\n",
      "12738/12738 [==============================] - 24s 2ms/step - loss: 5.8525e-06 - mae: 0.0017\n",
      "Epoch 57/100\n",
      "12738/12738 [==============================] - 24s 2ms/step - loss: 6.0222e-06 - mae: 0.0017\n",
      "Epoch 58/100\n",
      "12738/12738 [==============================] - 24s 2ms/step - loss: 5.7821e-06 - mae: 0.0017\n",
      "Epoch 59/100\n",
      "12738/12738 [==============================] - 24s 2ms/step - loss: 5.6238e-06 - mae: 0.0017\n",
      "Epoch 60/100\n",
      "12738/12738 [==============================] - 24s 2ms/step - loss: 5.9096e-06 - mae: 0.0017\n",
      "Epoch 61/100\n",
      "12738/12738 [==============================] - 24s 2ms/step - loss: 5.6515e-06 - mae: 0.0017\n",
      "Epoch 62/100\n",
      "12738/12738 [==============================] - 23s 2ms/step - loss: 5.6585e-06 - mae: 0.0017\n",
      "Epoch 63/100\n",
      "12738/12738 [==============================] - 23s 2ms/step - loss: 5.8557e-06 - mae: 0.0017\n",
      "Epoch 64/100\n",
      "12738/12738 [==============================] - 24s 2ms/step - loss: 5.6524e-06 - mae: 0.0017\n",
      "Epoch 65/100\n",
      "12738/12738 [==============================] - 24s 2ms/step - loss: 5.9085e-06 - mae: 0.0017\n",
      "Epoch 66/100\n",
      "12738/12738 [==============================] - 25s 2ms/step - loss: 5.5574e-06 - mae: 0.0017\n",
      "Epoch 67/100\n",
      "12738/12738 [==============================] - 25s 2ms/step - loss: 5.6412e-06 - mae: 0.0017\n",
      "Epoch 68/100\n",
      "12738/12738 [==============================] - 24s 2ms/step - loss: 5.6049e-06 - mae: 0.0017\n",
      "Epoch 69/100\n",
      "12738/12738 [==============================] - 25s 2ms/step - loss: 5.5779e-06 - mae: 0.0017\n",
      "Epoch 70/100\n",
      "12738/12738 [==============================] - 23s 2ms/step - loss: 5.9196e-06 - mae: 0.0017\n",
      "Epoch 71/100\n",
      "12738/12738 [==============================] - 23s 2ms/step - loss: 5.6914e-06 - mae: 0.0017\n",
      "Epoch 72/100\n",
      "12738/12738 [==============================] - 23s 2ms/step - loss: 5.5903e-06 - mae: 0.0017\n",
      "Epoch 73/100\n",
      "12738/12738 [==============================] - 23s 2ms/step - loss: 5.5220e-06 - mae: 0.0016\n",
      "Epoch 74/100\n",
      "12738/12738 [==============================] - 23s 2ms/step - loss: 5.9873e-06 - mae: 0.0017\n",
      "Epoch 75/100\n",
      "12738/12738 [==============================] - 24s 2ms/step - loss: 5.8751e-06 - mae: 0.0017\n",
      "Epoch 76/100\n",
      "12738/12738 [==============================] - 24s 2ms/step - loss: 5.8326e-06 - mae: 0.0017\n",
      "Epoch 77/100\n",
      "12738/12738 [==============================] - 24s 2ms/step - loss: 5.9259e-06 - mae: 0.0017\n",
      "Epoch 78/100\n",
      "12738/12738 [==============================] - 24s 2ms/step - loss: 5.7732e-06 - mae: 0.0017\n",
      "Epoch 79/100\n",
      "12738/12738 [==============================] - 23s 2ms/step - loss: 5.6208e-06 - mae: 0.0017\n",
      "Epoch 80/100\n",
      "12738/12738 [==============================] - 24s 2ms/step - loss: 6.0011e-06 - mae: 0.0017\n",
      "Epoch 81/100\n",
      "12738/12738 [==============================] - 24s 2ms/step - loss: 6.1894e-06 - mae: 0.0017\n",
      "Epoch 82/100\n",
      "12738/12738 [==============================] - 24s 2ms/step - loss: 5.8756e-06 - mae: 0.0017\n",
      "Epoch 83/100\n",
      "12738/12738 [==============================] - 23s 2ms/step - loss: 5.6270e-06 - mae: 0.0017\n",
      "Epoch 84/100\n",
      "12738/12738 [==============================] - 24s 2ms/step - loss: 5.8084e-06 - mae: 0.0017\n",
      "Epoch 85/100\n",
      "12738/12738 [==============================] - 25s 2ms/step - loss: 5.6595e-06 - mae: 0.0017\n",
      "Epoch 86/100\n",
      "12738/12738 [==============================] - 25s 2ms/step - loss: 5.6195e-06 - mae: 0.0017\n",
      "Epoch 87/100\n",
      "12738/12738 [==============================] - 25s 2ms/step - loss: 5.7861e-06 - mae: 0.0017\n",
      "Epoch 88/100\n",
      "12738/12738 [==============================] - 24s 2ms/step - loss: 5.4572e-06 - mae: 0.0016\n",
      "Epoch 89/100\n",
      "12738/12738 [==============================] - 24s 2ms/step - loss: 5.3399e-06 - mae: 0.0016\n",
      "Epoch 90/100\n",
      "12738/12738 [==============================] - 25s 2ms/step - loss: 5.4560e-06 - mae: 0.0016\n",
      "Epoch 91/100\n",
      "12738/12738 [==============================] - 24s 2ms/step - loss: 5.3245e-06 - mae: 0.0016\n",
      "Epoch 92/100\n",
      "12738/12738 [==============================] - 24s 2ms/step - loss: 5.1606e-06 - mae: 0.0016\n",
      "Epoch 93/100\n",
      "12738/12738 [==============================] - 24s 2ms/step - loss: 5.4419e-06 - mae: 0.0016\n",
      "Epoch 94/100\n",
      "12738/12738 [==============================] - 24s 2ms/step - loss: 4.9427e-06 - mae: 0.0016\n",
      "Epoch 95/100\n",
      "12738/12738 [==============================] - 25s 2ms/step - loss: 5.0172e-06 - mae: 0.0016\n",
      "Epoch 96/100\n",
      "12738/12738 [==============================] - 24s 2ms/step - loss: 5.2237e-06 - mae: 0.0016\n",
      "Epoch 97/100\n",
      "12738/12738 [==============================] - 24s 2ms/step - loss: 5.2575e-06 - mae: 0.0016\n",
      "Epoch 98/100\n",
      "12738/12738 [==============================] - 24s 2ms/step - loss: 5.1965e-06 - mae: 0.0016\n",
      "Epoch 99/100\n",
      "12738/12738 [==============================] - 24s 2ms/step - loss: 5.0809e-06 - mae: 0.0016\n",
      "Epoch 100/100\n",
      "12738/12738 [==============================] - 24s 2ms/step - loss: 5.3152e-06 - mae: 0.0016\n",
      "197/197 [==============================] - 1s 2ms/step - loss: 1.1943e-05 - mae: 0.0025\n"
     ]
    }
   ],
   "source": [
    "\n",
    "s.fit(X_train, y_train, epochs=100, batch_size=1, verbose=1)\n",
    "\n",
    "val_mse, val_mae = s.evaluate(X_test, y_test, verbose=1)"
   ]
  },
  {
   "cell_type": "code",
   "execution_count": 31,
   "id": "e0ce2539-4348-47ba-bfa3-5d1cf72100be",
   "metadata": {},
   "outputs": [
    {
     "name": "stdout",
     "output_type": "stream",
     "text": [
      "INFO:tensorflow:Assets written to: sequential/assets\n"
     ]
    }
   ],
   "source": [
    "s.save('sequential')"
   ]
  },
  {
   "cell_type": "code",
   "execution_count": 32,
   "id": "45f61e2a-916f-44a0-94c9-31288f3a55b0",
   "metadata": {},
   "outputs": [
    {
     "data": {
      "text/plain": [
       "0.0025244380813091993"
      ]
     },
     "execution_count": 32,
     "metadata": {},
     "output_type": "execute_result"
    }
   ],
   "source": [
    "val_mae"
   ]
  },
  {
   "cell_type": "code",
   "execution_count": null,
   "id": "3f8ec0f5-90ff-4f76-81a4-022c042c58be",
   "metadata": {},
   "outputs": [],
   "source": []
  }
 ],
 "metadata": {
  "kernelspec": {
   "display_name": "Python 3 (ipykernel)",
   "language": "python",
   "name": "python3"
  },
  "language_info": {
   "codemirror_mode": {
    "name": "ipython",
    "version": 3
   },
   "file_extension": ".py",
   "mimetype": "text/x-python",
   "name": "python",
   "nbconvert_exporter": "python",
   "pygments_lexer": "ipython3",
   "version": "3.9.12"
  }
 },
 "nbformat": 4,
 "nbformat_minor": 5
}
